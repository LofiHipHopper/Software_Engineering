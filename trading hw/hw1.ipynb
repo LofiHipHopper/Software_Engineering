{
 "cells": [
  {
   "cell_type": "code",
   "execution_count": 2,
   "metadata": {},
   "outputs": [],
   "source": [
    "import requests\n",
    "import numpy as np\n",
    "from scipy.stats import norm\n",
    "import signal\n",
    "from time import sleep\n"
   ]
  },
  {
   "cell_type": "code",
   "execution_count": 471,
   "metadata": {},
   "outputs": [],
   "source": [
    "API_KEY = {'X-API-Key': 'besttrader'}\n",
    "port = 9999\n",
    "url = f'http://localhost:{port}/v1/' \n",
    "shutdown = False"
   ]
  },
  {
   "cell_type": "code",
   "execution_count": 481,
   "metadata": {},
   "outputs": [
    {
     "name": "stdout",
     "output_type": "stream",
     "text": [
      "{'code': 'BAD_REQUEST', 'message': 'Invalid ticker ALGOtype=LIMIT?quantity=10?price=20.0?action=SELL.'}\n"
     ]
    }
   ],
   "source": [
    "class ApiException(Exception):\n",
    "    pass\n",
    "\n",
    "def signal_handler(signum, frame):\n",
    "    global shutdown\n",
    "    signal.signal(signal.SIGINT, signal.SIG_DFL)\n",
    "    shutdown = True\n",
    "\n",
    "#Rotman Functions\n",
    "#Get current tick\n",
    "def get_tick(session):\n",
    "    resp = session.get(url+'case')\n",
    "    if resp.status_code == 401:\n",
    "        raise ApiException('API key incorrect')\n",
    "    case = resp.json()\n",
    "    return case['tick']\n",
    "\n",
    "#Gets position and mid price of a security\n",
    "def bid_ask(session):\n",
    "    ticker = \"ALGO\"\n",
    "    resp = session.get(url+f'securities?ticker={ticker}')\n",
    "    sec = resp.json()\n",
    "    sec = sec[0]\n",
    "    #return [sec['position'],0.5*(sec['bid']+sec['ask'])]\n",
    "    return (sec['bid'], sec['ask'])\n",
    "\n",
    "def pm(session, bid_ask):\n",
    "    ticker = \"ALGO\"\n",
    "    params = {\"ticker\": \"ALGO\", \"type\":\"MARKET\", \"quantity\": 100, \"price\": bid_ask[0] + 0.01 , \"action\": \"BUY\" }\n",
    "    resp = session.post('url'+f'orders?ticker={ticker}', params = params)\n",
    "    sec = resp.json()\n",
    "    #sec = sec[0]\n",
    "    #return [sec['position'],0.5*(sec['bid']+sec['ask'])]\n",
    "    #return sec\n",
    "    print(sec)\n",
    "\n",
    "def main():\n",
    "    with requests.Session() as s:\n",
    "        s.headers.update(API_KEY)\n",
    "        lmt_sell_params = {'ticker': 'ALGO', 'type': 'LIMIT', 'quantity': 10,\n",
    "        'price': 20.0, 'action': 'SELL'}\n",
    "        resp = s.post('http://localhost:9999/v1/orders?ticker=ALGOtype=LIMIT?quantity=10?price=20.0?action=SELL')\n",
    "        print(resp.json())\n",
    "\n",
    "#strategy\n",
    "#an auto-hedger\n",
    "\n",
    "\n",
    "    \n",
    "    \n",
    "    \n",
    "    \n",
    "        \n",
    "        \n",
    "if __name__ == '__main__':\n",
    "    signal.signal(signal.SIGINT, signal_handler)\n",
    "    main()"
   ]
  },
  {
   "cell_type": "code",
   "execution_count": null,
   "metadata": {},
   "outputs": [],
   "source": []
  },
  {
   "cell_type": "code",
   "execution_count": null,
   "metadata": {},
   "outputs": [],
   "source": []
  },
  {
   "cell_type": "code",
   "execution_count": null,
   "metadata": {},
   "outputs": [],
   "source": []
  },
  {
   "cell_type": "code",
   "execution_count": null,
   "metadata": {},
   "outputs": [],
   "source": []
  },
  {
   "cell_type": "code",
   "execution_count": null,
   "metadata": {},
   "outputs": [],
   "source": []
  },
  {
   "cell_type": "code",
   "execution_count": null,
   "metadata": {},
   "outputs": [],
   "source": []
  },
  {
   "cell_type": "code",
   "execution_count": null,
   "metadata": {},
   "outputs": [],
   "source": []
  },
  {
   "cell_type": "code",
   "execution_count": null,
   "metadata": {},
   "outputs": [],
   "source": []
  },
  {
   "cell_type": "code",
   "execution_count": null,
   "metadata": {},
   "outputs": [],
   "source": []
  },
  {
   "cell_type": "code",
   "execution_count": null,
   "metadata": {},
   "outputs": [],
   "source": []
  },
  {
   "cell_type": "code",
   "execution_count": null,
   "metadata": {},
   "outputs": [],
   "source": [
    "#Setup\n",
    "    #generate tickers\n",
    "    option_tickers = ['RTM'+str(strike)+C_or_P for strike in range(45,55) for C_or_P in ('C','P')]\n",
    "    underlying_ticker = 'RTM'\n",
    "    #initial paramaters\n",
    "    max_trades = 10 #per second\n",
    "    delta_limit = 10000\n",
    "    \n",
    "    #begin per tick strategy\n",
    "    \n",
    "    tick = get_tick(session)\n",
    "    \n",
    "    while 1 < tick < 599:\n",
    "        \n",
    "        #reset trades\n",
    "        \n",
    "        num_trades = 0\n",
    "        \n",
    "        #Update time remaining\n",
    "        \n",
    "        tick = get_tick(session)\n",
    "        \n",
    "        T_t = (600-tick)/600/12\n",
    "        \n",
    "        #Update market info\n",
    "        \n",
    "        pos_mids = {option:pm(session,option) for option in option_tickers}\n",
    "        pos_mids[underlying_ticker] = pm(session,underlying_ticker)\n",
    "        underlying = pos_mids[underlying_ticker][1] #price of RTM\n",
    "        \n",
    "        #Update implied vols\n",
    "        \n",
    "        imp_vols = {option:imp_vol(underlying,strike(option),T_t,pos_mids[option][1],is_Call(option))\n",
    "                    for option in option_tickers}\n",
    "        \n",
    "        #Update option deltas\n",
    "        \n",
    "        option_deltas = {option:delta(underlying, strike(option), T_t, imp_vols[option], is_Call(option))\n",
    "                         for option in option_tickers}\n",
    "        \n",
    "        #determine portfolio delta\n",
    "        \n",
    "        port_delta = 100*sum([pos_mids[option][0]*option_deltas[option] for option in option_tickers])\n",
    "        \n",
    "        #now to hedge\n",
    "        #desired position in RTM is -port_delta\n",
    "        #I'm currently at pos_mids['RTM'][0] \n",
    "        #Need to buy or sell |pos_mids['RTM'][0] + port_delta| to reach 0 delta\n",
    "        \n",
    "        rtm_pos = pos_mids[underlying_ticker][0] \n",
    "        \n",
    "        desired_pos = -port_delta\n",
    "        \n",
    "        if rtm_pos > desired_pos:\n",
    "            direction = 'SELL'\n",
    "        else:\n",
    "            direction = 'BUY'\n",
    "            \n",
    "        if port_delta == 0:\n",
    "            distance = abs(rtm_pos)\n",
    "        else:\n",
    "            distance = max(abs(rtm_pos-desired_pos)-delta_limit,0)\n",
    "            \n",
    "        if distance > 2*delta_limit:\n",
    "            hedge = True\n",
    "        elif tick%5 == 0:\n",
    "            hedge = True\n",
    "        else:\n",
    "            hedge = False\n",
    "            \n",
    "        #place the orders\n",
    "        while distance > 0 and hedge:\n",
    "            \n",
    "            if num_trades >= max_trades:\n",
    "                break\n",
    "            \n",
    "            if distance > 10000:\n",
    "                payload = {'ticker': underlying_ticker, 'type': 'MARKET', 'quantity': 10000, 'action': direction}\n",
    "                session.post(url+'orders',params=payload)\n",
    "                distance = distance - 10000\n",
    "            else:\n",
    "                payload = {'ticker': underlying_ticker, 'type': 'MARKET', 'quantity': distance, 'action': direction}\n",
    "                session.post(url+'orders',params=payload)\n",
    "                distance = 0\n",
    "                \n",
    "            num_trades = num_trades + 1\n",
    "            \n",
    "        sleep(1)"
   ]
  }
 ],
 "metadata": {
  "kernelspec": {
   "display_name": "Python 3.9.12 ('base')",
   "language": "python",
   "name": "python3"
  },
  "language_info": {
   "codemirror_mode": {
    "name": "ipython",
    "version": 3
   },
   "file_extension": ".py",
   "mimetype": "text/x-python",
   "name": "python",
   "nbconvert_exporter": "python",
   "pygments_lexer": "ipython3",
   "version": "3.9.12"
  },
  "orig_nbformat": 4,
  "vscode": {
   "interpreter": {
    "hash": "2423b1605a689b6c7706951ffb91ab814ce176e620634d226025467729a3779a"
   }
  }
 },
 "nbformat": 4,
 "nbformat_minor": 2
}
